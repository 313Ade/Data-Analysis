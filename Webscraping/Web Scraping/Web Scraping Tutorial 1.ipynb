{
 "cells": [
  {
   "cell_type": "markdown",
   "metadata": {},
   "source": [
    "# New Tutorial on Webscraping"
   ]
  },
  {
   "cell_type": "markdown",
   "metadata": {},
   "source": [
    "- This is a simple web scraping project\n",
    "- In this project I will be scraping data from a Wikipedia table\n",
    "- The data will be exported to a csv file where possible"
   ]
  },
  {
   "cell_type": "code",
   "execution_count": null,
   "metadata": {},
   "outputs": [],
   "source": [
    "# importing libraries\n",
    "from bs4 import BeautifulSoup\n",
    "import requests\n",
    "import pandas as pd"
   ]
  },
  {
   "cell_type": "code",
   "execution_count": null,
   "metadata": {},
   "outputs": [],
   "source": [
    "# webpage I will be scraping data from\n",
    "url = 'https://en.wikipedia.org/wiki/List_of_largest_companies_in_the_United_States_by_revenue#List_of_the_largest_public_/_publicly_traded_companies'"
   ]
  },
  {
   "cell_type": "code",
   "execution_count": 30,
   "metadata": {},
   "outputs": [],
   "source": [
    "page = requests.get(url)\n",
    "soup = BeautifulSoup(page.text, 'html')"
   ]
  },
  {
   "cell_type": "code",
   "execution_count": null,
   "metadata": {},
   "outputs": [],
   "source": [
    "# using find_all to get all the tables in list form, then using indexing to access the table I want\n",
    "table = soup.find_all('table')[0]"
   ]
  },
  {
   "cell_type": "markdown",
   "metadata": {},
   "source": [
    "#### Creating the Columns"
   ]
  },
  {
   "cell_type": "code",
   "execution_count": null,
   "metadata": {},
   "outputs": [],
   "source": [
    "# TH is the element for table head\n",
    "all_titles = table.find_all('th')"
   ]
  },
  {
   "cell_type": "code",
   "execution_count": null,
   "metadata": {},
   "outputs": [],
   "source": [
    "# using list comprehension\n",
    "titles = [title.text.strip() for title in all_titles]"
   ]
  },
  {
   "cell_type": "code",
   "execution_count": 143,
   "metadata": {},
   "outputs": [],
   "source": [
    "# creating the dataframe, with column assignment\n",
    "df = pd.DataFrame(columns = titles)"
   ]
  },
  {
   "cell_type": "markdown",
   "metadata": {},
   "source": [
    "#### Creating the Rows"
   ]
  },
  {
   "cell_type": "code",
   "execution_count": 144,
   "metadata": {},
   "outputs": [],
   "source": [
    "column_data = table.find_all('tr')"
   ]
  },
  {
   "cell_type": "code",
   "execution_count": 145,
   "metadata": {},
   "outputs": [],
   "source": [
    "# using list comprehension \n",
    "for row in column_data[1:]:\n",
    "    row_data = row.find_all('td')\n",
    "    individual_row = [data.text.strip() for data in row_data]\n",
    "    \n",
    "    length = len(df)\n",
    "    df.loc[length] = individual_row\n",
    "    "
   ]
  },
  {
   "cell_type": "code",
   "execution_count": null,
   "metadata": {},
   "outputs": [
    {
     "data": {
      "text/html": [
       "<div>\n",
       "<style scoped>\n",
       "    .dataframe tbody tr th:only-of-type {\n",
       "        vertical-align: middle;\n",
       "    }\n",
       "\n",
       "    .dataframe tbody tr th {\n",
       "        vertical-align: top;\n",
       "    }\n",
       "\n",
       "    .dataframe thead th {\n",
       "        text-align: right;\n",
       "    }\n",
       "</style>\n",
       "<table border=\"1\" class=\"dataframe\">\n",
       "  <thead>\n",
       "    <tr style=\"text-align: right;\">\n",
       "      <th></th>\n",
       "      <th>Rank</th>\n",
       "      <th>Name</th>\n",
       "      <th>Industry</th>\n",
       "      <th>Revenue (USD millions)</th>\n",
       "      <th>Revenue growth</th>\n",
       "      <th>Employees</th>\n",
       "      <th>Headquarters</th>\n",
       "    </tr>\n",
       "  </thead>\n",
       "  <tbody>\n",
       "    <tr>\n",
       "      <th>48</th>\n",
       "      <td>49</td>\n",
       "      <td>Lowe's</td>\n",
       "      <td>Retail</td>\n",
       "      <td>86,377</td>\n",
       "      <td>-11.0%</td>\n",
       "      <td>226,000</td>\n",
       "      <td>Mooresville, North Carolina</td>\n",
       "    </tr>\n",
       "    <tr>\n",
       "      <th>10</th>\n",
       "      <td>11</td>\n",
       "      <td>Costco</td>\n",
       "      <td>Retail</td>\n",
       "      <td>242,290</td>\n",
       "      <td>6.8%</td>\n",
       "      <td>316,000</td>\n",
       "      <td>Issaquah, Washington</td>\n",
       "    </tr>\n",
       "    <tr>\n",
       "      <th>76</th>\n",
       "      <td>77</td>\n",
       "      <td>AbbVie</td>\n",
       "      <td>Pharmaceutical industry</td>\n",
       "      <td>54,317</td>\n",
       "      <td>-6.4%</td>\n",
       "      <td>50,000</td>\n",
       "      <td>Lake Bluff, Illinois</td>\n",
       "    </tr>\n",
       "    <tr>\n",
       "      <th>32</th>\n",
       "      <td>33</td>\n",
       "      <td>Comcast</td>\n",
       "      <td>Telecommunications</td>\n",
       "      <td>121,572</td>\n",
       "      <td>0.1%</td>\n",
       "      <td>186,000</td>\n",
       "      <td>Philadelphia, Pennsylvania</td>\n",
       "    </tr>\n",
       "    <tr>\n",
       "      <th>51</th>\n",
       "      <td>52</td>\n",
       "      <td>Boeing</td>\n",
       "      <td>Aerospace and defense</td>\n",
       "      <td>77,794</td>\n",
       "      <td>16.8%</td>\n",
       "      <td>171,000</td>\n",
       "      <td>Arlington County, Virginia</td>\n",
       "    </tr>\n",
       "  </tbody>\n",
       "</table>\n",
       "</div>"
      ],
      "text/plain": [
       "   Rank     Name                 Industry Revenue (USD millions)  \\\n",
       "48   49   Lowe's                   Retail                 86,377   \n",
       "10   11   Costco                   Retail                242,290   \n",
       "76   77   AbbVie  Pharmaceutical industry                 54,317   \n",
       "32   33  Comcast       Telecommunications                121,572   \n",
       "51   52   Boeing    Aerospace and defense                 77,794   \n",
       "\n",
       "   Revenue growth Employees                 Headquarters  \n",
       "48         -11.0%   226,000  Mooresville, North Carolina  \n",
       "10           6.8%   316,000         Issaquah, Washington  \n",
       "76          -6.4%    50,000         Lake Bluff, Illinois  \n",
       "32           0.1%   186,000   Philadelphia, Pennsylvania  \n",
       "51          16.8%   171,000   Arlington County, Virginia  "
      ]
     },
     "execution_count": 147,
     "metadata": {},
     "output_type": "execute_result"
    }
   ],
   "source": [
    "# sample of final dataframe\n",
    "df.sample(5)"
   ]
  },
  {
   "cell_type": "code",
   "execution_count": 158,
   "metadata": {},
   "outputs": [],
   "source": [
    "# df.style.set_caption(\"List of the Largest Public/Publicly Traded Companies in the US\")"
   ]
  },
  {
   "cell_type": "markdown",
   "metadata": {},
   "source": [
    "### New Table"
   ]
  },
  {
   "cell_type": "markdown",
   "metadata": {},
   "source": [
    "- scraping the next table in the webpage"
   ]
  },
  {
   "cell_type": "code",
   "execution_count": 148,
   "metadata": {},
   "outputs": [],
   "source": [
    "table1 = soup.find_all('table')[1]"
   ]
  },
  {
   "cell_type": "code",
   "execution_count": 149,
   "metadata": {},
   "outputs": [],
   "source": [
    "table1Headers = table1.find_all('th')\n"
   ]
  },
  {
   "cell_type": "code",
   "execution_count": 150,
   "metadata": {},
   "outputs": [],
   "source": [
    "table1Titles = [title.text.strip() for title in table1Headers]\n"
   ]
  },
  {
   "cell_type": "code",
   "execution_count": 152,
   "metadata": {},
   "outputs": [],
   "source": [
    "df1 = pd.DataFrame(columns=table1Titles)"
   ]
  },
  {
   "cell_type": "code",
   "execution_count": 153,
   "metadata": {},
   "outputs": [],
   "source": [
    "table1Columndata  = table1.findAll('tr')"
   ]
  },
  {
   "cell_type": "code",
   "execution_count": 154,
   "metadata": {},
   "outputs": [],
   "source": [
    "for row1 in table1Columndata[1:]:\n",
    "    rowData = row1.findAll('td')\n",
    "\n",
    "    individual_row = [data.text.strip() for data in rowData]\n",
    "    length = len(df1)\n",
    "    df1.loc[length]=individual_row\n",
    "\n",
    "    "
   ]
  },
  {
   "cell_type": "code",
   "execution_count": null,
   "metadata": {},
   "outputs": [
    {
     "data": {
      "text/html": [
       "<div>\n",
       "<style scoped>\n",
       "    .dataframe tbody tr th:only-of-type {\n",
       "        vertical-align: middle;\n",
       "    }\n",
       "\n",
       "    .dataframe tbody tr th {\n",
       "        vertical-align: top;\n",
       "    }\n",
       "\n",
       "    .dataframe thead th {\n",
       "        text-align: right;\n",
       "    }\n",
       "</style>\n",
       "<table border=\"1\" class=\"dataframe\">\n",
       "  <thead>\n",
       "    <tr style=\"text-align: right;\">\n",
       "      <th></th>\n",
       "      <th>Rank</th>\n",
       "      <th>Name</th>\n",
       "      <th>Industry</th>\n",
       "      <th>Revenue (USD billions)</th>\n",
       "      <th>Employees</th>\n",
       "      <th>Headquarters</th>\n",
       "    </tr>\n",
       "  </thead>\n",
       "  <tbody>\n",
       "    <tr>\n",
       "      <th>8</th>\n",
       "      <td>9</td>\n",
       "      <td>Love's</td>\n",
       "      <td>Petroleum industry and Retail</td>\n",
       "      <td>26.5</td>\n",
       "      <td>40,000</td>\n",
       "      <td>Oklahoma City, Oklahoma</td>\n",
       "    </tr>\n",
       "    <tr>\n",
       "      <th>4</th>\n",
       "      <td>5</td>\n",
       "      <td>H-E-B</td>\n",
       "      <td>Retail</td>\n",
       "      <td>43.6</td>\n",
       "      <td>145,000</td>\n",
       "      <td>San Antonio, Texas</td>\n",
       "    </tr>\n",
       "    <tr>\n",
       "      <th>9</th>\n",
       "      <td>10</td>\n",
       "      <td>Southern Glazer's Wine and Spirits</td>\n",
       "      <td>Food industry</td>\n",
       "      <td>26.0</td>\n",
       "      <td>24,000</td>\n",
       "      <td>Miramar, Florida</td>\n",
       "    </tr>\n",
       "    <tr>\n",
       "      <th>6</th>\n",
       "      <td>7</td>\n",
       "      <td>Enterprise Holdings</td>\n",
       "      <td>Car rental</td>\n",
       "      <td>35</td>\n",
       "      <td>90,000</td>\n",
       "      <td>Clayton, Missouri</td>\n",
       "    </tr>\n",
       "    <tr>\n",
       "      <th>1</th>\n",
       "      <td>2</td>\n",
       "      <td>Koch Industries</td>\n",
       "      <td>Conglomerate</td>\n",
       "      <td>125</td>\n",
       "      <td>120,000</td>\n",
       "      <td>Wichita, Kansas</td>\n",
       "    </tr>\n",
       "  </tbody>\n",
       "</table>\n",
       "</div>"
      ],
      "text/plain": [
       "  Rank                                Name                       Industry  \\\n",
       "8    9                              Love's  Petroleum industry and Retail   \n",
       "4    5                               H-E-B                         Retail   \n",
       "9   10  Southern Glazer's Wine and Spirits                  Food industry   \n",
       "6    7                 Enterprise Holdings                     Car rental   \n",
       "1    2                     Koch Industries                   Conglomerate   \n",
       "\n",
       "  Revenue (USD billions) Employees             Headquarters  \n",
       "8                   26.5    40,000  Oklahoma City, Oklahoma  \n",
       "4                   43.6   145,000       San Antonio, Texas  \n",
       "9                   26.0    24,000         Miramar, Florida  \n",
       "6                     35    90,000        Clayton, Missouri  \n",
       "1                    125   120,000          Wichita, Kansas  "
      ]
     },
     "execution_count": 156,
     "metadata": {},
     "output_type": "execute_result"
    }
   ],
   "source": [
    "df1.sample(5)\n",
    "# df1.style.set_caption('List of Largest Private Companies')"
   ]
  }
 ],
 "metadata": {
  "kernelspec": {
   "display_name": "Python 3",
   "language": "python",
   "name": "python3"
  },
  "language_info": {
   "codemirror_mode": {
    "name": "ipython",
    "version": 3
   },
   "file_extension": ".py",
   "mimetype": "text/x-python",
   "name": "python",
   "nbconvert_exporter": "python",
   "pygments_lexer": "ipython3",
   "version": "3.10.6"
  }
 },
 "nbformat": 4,
 "nbformat_minor": 2
}
